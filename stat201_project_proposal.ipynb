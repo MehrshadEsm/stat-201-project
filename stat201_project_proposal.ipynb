{
 "cells": [
  {
   "cell_type": "markdown",
   "id": "233f5046-fd69-461a-a951-b52b26b5cf8a",
   "metadata": {},
   "source": [
    "# Stat 201 Project\n",
    "\n",
    "Introduction:\n",
    "\n",
    "Higher education institutions are continually striving to improve student retention and academic success. For this purpose, a comprehensive dataset has been collected, amalgamating information from various disjoint databases related to students enrolled in different undergraduate degree programs in an effort to decrease the failure and dropout rate of students. The institution this data set was taken from offers a wide range of programs, encompassing a diverse range of disciplines, including agronomy, design, education, nursing, journalism, management, social service, and technologies. Higher education has the potential to allow significantly different career paths for individuals who pursue a university or college degree but not every student is well supported in these educational institutes. The understanding of factors that influence academic success, can allow for a curated and informed academic program design to support students better.\n",
    "\n",
    "Research Question\n",
    "\n",
    "The central question addressed by this project is as follows: How can we predict students' likelihood of dropping out and their likelihood of academic success in various undergraduate degree programs, given the demographic, socioeconomic, and academic path information available at the time of enrollment?\n",
    "\n",
    "### not sure exactly what our variables of interest are so I am just adding a few placeholder ones ###\n",
    "\n",
    "Variables of Interest:\n",
    "\n",
    "Some of the variables of interest in the project include student mean grades and gender diversity at the university.\n",
    "\n",
    "Category-based: drop-out, succeed, average (probability of each outcome)\n",
    "\n",
    "the level of confidence in our predictions and the degree of variability in student outcomes within each category.\n",
    "\n",
    "### which leads to the end of the intro below   ###\n",
    "\n",
    "Via the mentioned variables and statistical inference, we can provide valuable insights for universities and colleges to enhance their support systems, ultimately improving the overall success and retention of students across a range of undergraduate degree programs.\n"
   ]
  },
  {
   "cell_type": "code",
   "execution_count": null,
   "id": "bb4318c6-a8fd-4ce0-a1b9-a15af01dc00e",
   "metadata": {},
   "outputs": [],
   "source": []
  }
 ],
 "metadata": {
  "kernelspec": {
   "display_name": "R",
   "language": "R",
   "name": "ir"
  },
  "language_info": {
   "codemirror_mode": "r",
   "file_extension": ".r",
   "mimetype": "text/x-r-source",
   "name": "R",
   "pygments_lexer": "r",
   "version": "4.2.3"
  }
 },
 "nbformat": 4,
 "nbformat_minor": 5
}
