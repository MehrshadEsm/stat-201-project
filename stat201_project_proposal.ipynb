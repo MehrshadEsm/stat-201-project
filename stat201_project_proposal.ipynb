{
 "cells": [
  {
   "cell_type": "markdown",
   "id": "233f5046-fd69-461a-a951-b52b26b5cf8a",
   "metadata": {},
   "source": [
    "# Stat 201 Project\n",
    "\n",
    "...\n",
    "\n",
    "asdkjhklsaJHD"
   ]
  },
  {
   "cell_type": "code",
   "execution_count": 21,
   "id": "7ff18dee-45b9-49e9-9852-39da33fc0331",
   "metadata": {
    "tags": []
   },
   "outputs": [],
   "source": [
    "DATASET_URL <- \"https://raw.githubusercontent.com/MehrshadEsm/stat-201-project/main/data.csv\"\n",
    "DATA_FIELDS <- c(\"Daytime/evening attendance\\t\", \"Course\", \"Marital status\", \"Tuition fees up to date\", \"Displaced\", \"Mother's qualification\", \"Father's qualification\") "
   ]
  },
  {
   "cell_type": "code",
   "execution_count": 22,
   "id": "ef42ecee-8364-46c1-9ba1-af4ea5a27ac0",
   "metadata": {
    "tags": []
   },
   "outputs": [],
   "source": [
    "library(tidyverse)\n",
    "library(tidymodels)\n",
    "library(infer)"
   ]
  },
  {
   "cell_type": "code",
   "execution_count": 24,
   "id": "1c19ebaa-e73c-4c5f-8cf6-420378ebb01c",
   "metadata": {
    "tags": []
   },
   "outputs": [
    {
     "name": "stderr",
     "output_type": "stream",
     "text": [
      "\u001b[1mRows: \u001b[22m\u001b[34m4424\u001b[39m \u001b[1mColumns: \u001b[22m\u001b[34m37\u001b[39m\n",
      "\u001b[36m──\u001b[39m \u001b[1mColumn specification\u001b[22m \u001b[36m────────────────────────────────────────────────────────\u001b[39m\n",
      "\u001b[1mDelimiter:\u001b[22m \";\"\n",
      "\u001b[31mchr\u001b[39m  (1): Target\n",
      "\u001b[32mdbl\u001b[39m (36): Marital status, Application mode, Application order, Course, Dayti...\n",
      "\n",
      "\u001b[36mℹ\u001b[39m Use `spec()` to retrieve the full column specification for this data.\n",
      "\u001b[36mℹ\u001b[39m Specify the column types or set `show_col_types = FALSE` to quiet this message.\n"
     ]
    },
    {
     "data": {
      "text/html": [
       "<style>\n",
       ".list-inline {list-style: none; margin:0; padding: 0}\n",
       ".list-inline>li {display: inline-block}\n",
       ".list-inline>li:not(:last-child)::after {content: \"\\00b7\"; padding: 0 .5ex}\n",
       "</style>\n",
       "<ol class=list-inline><li>'Marital status'</li><li>'Application mode'</li><li>'Application order'</li><li>'Course'</li><li>'Daytime/evening attendance\\t'</li><li>'Previous qualification'</li><li>'Previous qualification (grade)'</li><li>'Nacionality'</li><li>'Mother\\'s qualification'</li><li>'Father\\'s qualification'</li><li>'Mother\\'s occupation'</li><li>'Father\\'s occupation'</li><li>'Admission grade'</li><li>'Displaced'</li><li>'Educational special needs'</li><li>'Debtor'</li><li>'Tuition fees up to date'</li><li>'Gender'</li><li>'Scholarship holder'</li><li>'Age at enrollment'</li><li>'International'</li><li>'Curricular units 1st sem (credited)'</li><li>'Curricular units 1st sem (enrolled)'</li><li>'Curricular units 1st sem (evaluations)'</li><li>'Curricular units 1st sem (approved)'</li><li>'Curricular units 1st sem (grade)'</li><li>'Curricular units 1st sem (without evaluations)'</li><li>'Curricular units 2nd sem (credited)'</li><li>'Curricular units 2nd sem (enrolled)'</li><li>'Curricular units 2nd sem (evaluations)'</li><li>'Curricular units 2nd sem (approved)'</li><li>'Curricular units 2nd sem (grade)'</li><li>'Curricular units 2nd sem (without evaluations)'</li><li>'Unemployment rate'</li><li>'Inflation rate'</li><li>'GDP'</li><li>'Target'</li></ol>\n"
      ],
      "text/latex": [
       "\\begin{enumerate*}\n",
       "\\item 'Marital status'\n",
       "\\item 'Application mode'\n",
       "\\item 'Application order'\n",
       "\\item 'Course'\n",
       "\\item 'Daytime/evening attendance\\textbackslash{}t'\n",
       "\\item 'Previous qualification'\n",
       "\\item 'Previous qualification (grade)'\n",
       "\\item 'Nacionality'\n",
       "\\item 'Mother\\textbackslash{}'s qualification'\n",
       "\\item 'Father\\textbackslash{}'s qualification'\n",
       "\\item 'Mother\\textbackslash{}'s occupation'\n",
       "\\item 'Father\\textbackslash{}'s occupation'\n",
       "\\item 'Admission grade'\n",
       "\\item 'Displaced'\n",
       "\\item 'Educational special needs'\n",
       "\\item 'Debtor'\n",
       "\\item 'Tuition fees up to date'\n",
       "\\item 'Gender'\n",
       "\\item 'Scholarship holder'\n",
       "\\item 'Age at enrollment'\n",
       "\\item 'International'\n",
       "\\item 'Curricular units 1st sem (credited)'\n",
       "\\item 'Curricular units 1st sem (enrolled)'\n",
       "\\item 'Curricular units 1st sem (evaluations)'\n",
       "\\item 'Curricular units 1st sem (approved)'\n",
       "\\item 'Curricular units 1st sem (grade)'\n",
       "\\item 'Curricular units 1st sem (without evaluations)'\n",
       "\\item 'Curricular units 2nd sem (credited)'\n",
       "\\item 'Curricular units 2nd sem (enrolled)'\n",
       "\\item 'Curricular units 2nd sem (evaluations)'\n",
       "\\item 'Curricular units 2nd sem (approved)'\n",
       "\\item 'Curricular units 2nd sem (grade)'\n",
       "\\item 'Curricular units 2nd sem (without evaluations)'\n",
       "\\item 'Unemployment rate'\n",
       "\\item 'Inflation rate'\n",
       "\\item 'GDP'\n",
       "\\item 'Target'\n",
       "\\end{enumerate*}\n"
      ],
      "text/markdown": [
       "1. 'Marital status'\n",
       "2. 'Application mode'\n",
       "3. 'Application order'\n",
       "4. 'Course'\n",
       "5. 'Daytime/evening attendance\\t'\n",
       "6. 'Previous qualification'\n",
       "7. 'Previous qualification (grade)'\n",
       "8. 'Nacionality'\n",
       "9. 'Mother\\'s qualification'\n",
       "10. 'Father\\'s qualification'\n",
       "11. 'Mother\\'s occupation'\n",
       "12. 'Father\\'s occupation'\n",
       "13. 'Admission grade'\n",
       "14. 'Displaced'\n",
       "15. 'Educational special needs'\n",
       "16. 'Debtor'\n",
       "17. 'Tuition fees up to date'\n",
       "18. 'Gender'\n",
       "19. 'Scholarship holder'\n",
       "20. 'Age at enrollment'\n",
       "21. 'International'\n",
       "22. 'Curricular units 1st sem (credited)'\n",
       "23. 'Curricular units 1st sem (enrolled)'\n",
       "24. 'Curricular units 1st sem (evaluations)'\n",
       "25. 'Curricular units 1st sem (approved)'\n",
       "26. 'Curricular units 1st sem (grade)'\n",
       "27. 'Curricular units 1st sem (without evaluations)'\n",
       "28. 'Curricular units 2nd sem (credited)'\n",
       "29. 'Curricular units 2nd sem (enrolled)'\n",
       "30. 'Curricular units 2nd sem (evaluations)'\n",
       "31. 'Curricular units 2nd sem (approved)'\n",
       "32. 'Curricular units 2nd sem (grade)'\n",
       "33. 'Curricular units 2nd sem (without evaluations)'\n",
       "34. 'Unemployment rate'\n",
       "35. 'Inflation rate'\n",
       "36. 'GDP'\n",
       "37. 'Target'\n",
       "\n",
       "\n"
      ],
      "text/plain": [
       " [1] \"Marital status\"                                \n",
       " [2] \"Application mode\"                              \n",
       " [3] \"Application order\"                             \n",
       " [4] \"Course\"                                        \n",
       " [5] \"Daytime/evening attendance\\t\"                  \n",
       " [6] \"Previous qualification\"                        \n",
       " [7] \"Previous qualification (grade)\"                \n",
       " [8] \"Nacionality\"                                   \n",
       " [9] \"Mother's qualification\"                        \n",
       "[10] \"Father's qualification\"                        \n",
       "[11] \"Mother's occupation\"                           \n",
       "[12] \"Father's occupation\"                           \n",
       "[13] \"Admission grade\"                               \n",
       "[14] \"Displaced\"                                     \n",
       "[15] \"Educational special needs\"                     \n",
       "[16] \"Debtor\"                                        \n",
       "[17] \"Tuition fees up to date\"                       \n",
       "[18] \"Gender\"                                        \n",
       "[19] \"Scholarship holder\"                            \n",
       "[20] \"Age at enrollment\"                             \n",
       "[21] \"International\"                                 \n",
       "[22] \"Curricular units 1st sem (credited)\"           \n",
       "[23] \"Curricular units 1st sem (enrolled)\"           \n",
       "[24] \"Curricular units 1st sem (evaluations)\"        \n",
       "[25] \"Curricular units 1st sem (approved)\"           \n",
       "[26] \"Curricular units 1st sem (grade)\"              \n",
       "[27] \"Curricular units 1st sem (without evaluations)\"\n",
       "[28] \"Curricular units 2nd sem (credited)\"           \n",
       "[29] \"Curricular units 2nd sem (enrolled)\"           \n",
       "[30] \"Curricular units 2nd sem (evaluations)\"        \n",
       "[31] \"Curricular units 2nd sem (approved)\"           \n",
       "[32] \"Curricular units 2nd sem (grade)\"              \n",
       "[33] \"Curricular units 2nd sem (without evaluations)\"\n",
       "[34] \"Unemployment rate\"                             \n",
       "[35] \"Inflation rate\"                                \n",
       "[36] \"GDP\"                                           \n",
       "[37] \"Target\"                                        "
      ]
     },
     "metadata": {},
     "output_type": "display_data"
    },
    {
     "data": {
      "text/html": [
       "<table class=\"dataframe\">\n",
       "<caption>A tibble: 6 × 8</caption>\n",
       "<thead>\n",
       "\t<tr><th scope=col>Target</th><th scope=col>Daytime/evening attendance\t</th><th scope=col>Course</th><th scope=col>Marital status</th><th scope=col>Tuition fees up to date</th><th scope=col>Displaced</th><th scope=col>Mother's qualification</th><th scope=col>Father's qualification</th></tr>\n",
       "\t<tr><th scope=col>&lt;chr&gt;</th><th scope=col>&lt;dbl&gt;</th><th scope=col>&lt;dbl&gt;</th><th scope=col>&lt;dbl&gt;</th><th scope=col>&lt;dbl&gt;</th><th scope=col>&lt;dbl&gt;</th><th scope=col>&lt;dbl&gt;</th><th scope=col>&lt;dbl&gt;</th></tr>\n",
       "</thead>\n",
       "<tbody>\n",
       "\t<tr><td>Dropout </td><td>1</td><td> 171</td><td>1</td><td>1</td><td>1</td><td>19</td><td>12</td></tr>\n",
       "\t<tr><td>Graduate</td><td>1</td><td>9254</td><td>1</td><td>0</td><td>1</td><td> 1</td><td> 3</td></tr>\n",
       "\t<tr><td>Dropout </td><td>1</td><td>9070</td><td>1</td><td>0</td><td>1</td><td>37</td><td>37</td></tr>\n",
       "\t<tr><td>Graduate</td><td>1</td><td>9773</td><td>1</td><td>1</td><td>1</td><td>38</td><td>37</td></tr>\n",
       "\t<tr><td>Graduate</td><td>0</td><td>8014</td><td>2</td><td>1</td><td>0</td><td>37</td><td>38</td></tr>\n",
       "\t<tr><td>Graduate</td><td>0</td><td>9991</td><td>2</td><td>1</td><td>0</td><td>37</td><td>37</td></tr>\n",
       "</tbody>\n",
       "</table>\n"
      ],
      "text/latex": [
       "A tibble: 6 × 8\n",
       "\\begin{tabular}{llllllll}\n",
       " Target & Daytime/evening attendance\t & Course & Marital status & Tuition fees up to date & Displaced & Mother's qualification & Father's qualification\\\\\n",
       " <chr> & <dbl> & <dbl> & <dbl> & <dbl> & <dbl> & <dbl> & <dbl>\\\\\n",
       "\\hline\n",
       "\t Dropout  & 1 &  171 & 1 & 1 & 1 & 19 & 12\\\\\n",
       "\t Graduate & 1 & 9254 & 1 & 0 & 1 &  1 &  3\\\\\n",
       "\t Dropout  & 1 & 9070 & 1 & 0 & 1 & 37 & 37\\\\\n",
       "\t Graduate & 1 & 9773 & 1 & 1 & 1 & 38 & 37\\\\\n",
       "\t Graduate & 0 & 8014 & 2 & 1 & 0 & 37 & 38\\\\\n",
       "\t Graduate & 0 & 9991 & 2 & 1 & 0 & 37 & 37\\\\\n",
       "\\end{tabular}\n"
      ],
      "text/markdown": [
       "\n",
       "A tibble: 6 × 8\n",
       "\n",
       "| Target &lt;chr&gt; | Daytime/evening attendance\t &lt;dbl&gt; | Course &lt;dbl&gt; | Marital status &lt;dbl&gt; | Tuition fees up to date &lt;dbl&gt; | Displaced &lt;dbl&gt; | Mother's qualification &lt;dbl&gt; | Father's qualification &lt;dbl&gt; |\n",
       "|---|---|---|---|---|---|---|---|\n",
       "| Dropout  | 1 |  171 | 1 | 1 | 1 | 19 | 12 |\n",
       "| Graduate | 1 | 9254 | 1 | 0 | 1 |  1 |  3 |\n",
       "| Dropout  | 1 | 9070 | 1 | 0 | 1 | 37 | 37 |\n",
       "| Graduate | 1 | 9773 | 1 | 1 | 1 | 38 | 37 |\n",
       "| Graduate | 0 | 8014 | 2 | 1 | 0 | 37 | 38 |\n",
       "| Graduate | 0 | 9991 | 2 | 1 | 0 | 37 | 37 |\n",
       "\n"
      ],
      "text/plain": [
       "  Target   Daytime/evening attendance\\t Course Marital status\n",
       "1 Dropout  1                             171   1             \n",
       "2 Graduate 1                            9254   1             \n",
       "3 Dropout  1                            9070   1             \n",
       "4 Graduate 1                            9773   1             \n",
       "5 Graduate 0                            8014   2             \n",
       "6 Graduate 0                            9991   2             \n",
       "  Tuition fees up to date Displaced Mother's qualification\n",
       "1 1                       1         19                    \n",
       "2 0                       1          1                    \n",
       "3 0                       1         37                    \n",
       "4 1                       1         38                    \n",
       "5 1                       0         37                    \n",
       "6 1                       0         37                    \n",
       "  Father's qualification\n",
       "1 12                    \n",
       "2  3                    \n",
       "3 37                    \n",
       "4 37                    \n",
       "5 38                    \n",
       "6 37                    "
      ]
     },
     "metadata": {},
     "output_type": "display_data"
    }
   ],
   "source": [
    "student_data_raw <- read_delim(DATASET_URL, delim = \";\")\n",
    "colnames(student_data_raw)\n",
    "\n",
    "student_data <- \n",
    "    student_data_raw |>\n",
    "    select(Target, all_of(DATA_FIELDS))\n",
    "\n",
    "head(student_data)"
   ]
  },
  {
   "cell_type": "code",
   "execution_count": null,
   "id": "2a291d9e-0e20-4802-9c82-e06b7e06f76b",
   "metadata": {},
   "outputs": [],
   "source": []
  }
 ],
 "metadata": {
  "kernelspec": {
   "display_name": "R",
   "language": "R",
   "name": "ir"
  },
  "language_info": {
   "codemirror_mode": "r",
   "file_extension": ".r",
   "mimetype": "text/x-r-source",
   "name": "R",
   "pygments_lexer": "r",
   "version": "4.2.3"
  }
 },
 "nbformat": 4,
 "nbformat_minor": 5
}
