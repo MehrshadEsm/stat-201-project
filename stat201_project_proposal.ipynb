{
 "cells": [
  {
   "cell_type": "markdown",
   "id": "233f5046-fd69-461a-a951-b52b26b5cf8a",
   "metadata": {},
   "source": [
    "# Stat 201 Project\n",
    "\n",
    "...\n",
    "\n",
    "asdkjhklsaJHD"
   ]
  }
 ],
 "metadata": {
  "kernelspec": {
   "display_name": "R",
   "language": "R",
   "name": "ir"
  },
  "language_info": {
   "codemirror_mode": "r",
   "file_extension": ".r",
   "mimetype": "text/x-r-source",
   "name": "R",
   "pygments_lexer": "r",
   "version": "4.2.3"
  }
 },
 "nbformat": 4,
 "nbformat_minor": 5
}
