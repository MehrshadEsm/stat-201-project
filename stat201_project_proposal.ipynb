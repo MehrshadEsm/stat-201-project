{
 "cells": [
  {
   "cell_type": "markdown",
   "id": "233f5046-fd69-461a-a951-b52b26b5cf8a",
   "metadata": {},
   "source": [
    "# Stat 201 Project"
   ]
  },
  {
   "cell_type": "markdown",
   "id": "cd91192e-2968-4c5a-b89c-79dc94c1d871",
   "metadata": {},
   "source": [
    "## Introduction\n",
    "\n",
    "- background\n",
    "- significance\n",
    "\n",
    "- explain dataset (https://archive.ics.uci.edu/dataset/697/predict+students+dropout+and+academic+success)\n",
    "\n",
    "Introduction:\n",
    "\n",
    "Higher education institutions are continually striving to improve student retention and academic success. For this purpose, a comprehensive dataset has been collected, amalgamating information from various disjoint databases related to students enrolled in different undergraduate degree programs in an effort to decrease the failure and dropout rate of students. The institution this data set was taken from offers a wide range of programs, encompassing a diverse range of disciplines, including agronomy, design, education, nursing, journalism, management, social service, and technologies. Higher education has the potential to allow significantly different career paths for individuals who pursue a university or college degree but not every student is well supported in these educational institutes. The understanding of factors that influence academic success, can allow for a curated and informed academic program design to support students better.\n",
    "\n",
    "Research Question\n",
    "\n",
    "The central question addressed by this project is as follows: How can we predict students' likelihood of dropping out and their likelihood of academic success in various undergraduate degree programs, given the demographic, socioeconomic, and academic path information available at the time of enrollment?\n",
    "\n",
    "### Research Question\n",
    "\n",
    "**Is the dropout rate of students with parents that recieved higher level education greater than those whose parents have not recieved higher level education?**\n",
    "- higher level education refers to education beyond the highschool level\n",
    "- parents are considered to recieve higher level education as long as *one* parent have recived higher level eduction\n",
    "\n",
    "$H_0: p_1 = p_2$  \n",
    "$H_a: p_1 > p_2$  \n",
    "$p_1$: proportion of student dropout with parents that recieved higher level education  \n",
    "$p_2$: proportion of student dropout with parents that have **not** recieved higher level education\n",
    "\n",
    "Hypothesis testing will be conducted with $\\alpha = 1$.\n",
    "\n",
    "### not sure exactly what our variables of interest are so I am just adding a few placeholder ones ###\n",
    "\n",
    "Variables of Interest:\n",
    "\n",
    "Some of the variables of interest in the project include student mean grades and gender diversity at the university.\n",
    "\n",
    "Category-based: drop-out, succeed, average (probability of each outcome)\n",
    "\n",
    "the level of confidence in our predictions and the degree of variability in student outcomes within each category.\n",
    "\n",
    "### which leads to the end of the intro below \n",
    "\n",
    "Via the mentioned variables and statistical inference, we can provide valuable insights for universities and colleges to enhance their support systems, ultimately improving the overall success and retention of students across a range of undergraduate degree programs."
   ]
  },
  {
   "cell_type": "markdown",
   "id": "36107404-e0e0-48e3-80c0-9fcf64cf05b8",
   "metadata": {},
   "source": [
    "## Preliminary Analysis\n",
    "\n",
    "This section will include:\n",
    "- Reading data from UCI database\n",
    "- Wrangling, analyzing, and plotting relevant data\n",
    "    - Classifying parents' education levels\n",
    "    - Calculating relative dropout rates\n",
    "- Computing point estimates"
   ]
  },
  {
   "cell_type": "code",
   "execution_count": 43,
   "id": "7ff18dee-45b9-49e9-9852-39da33fc0331",
   "metadata": {
    "tags": []
   },
   "outputs": [],
   "source": [
    "# Constants\n",
    "DATASET_URL <- \"https://raw.githubusercontent.com/MehrshadEsm/stat-201-project/main/data.csv\"\n",
    "DATA_FIELDS <- c(\"Mother's qualification\", \"Father's qualification\", \"Admission grade\") "
   ]
  },
  {
   "cell_type": "code",
   "execution_count": 44,
   "id": "ef42ecee-8364-46c1-9ba1-af4ea5a27ac0",
   "metadata": {
    "tags": []
   },
   "outputs": [],
   "source": [
    "# Load liraries and set seed\n",
    "set.seed(1234)\n",
    "library(tidyverse)\n",
    "library(tidymodels)\n",
    "library(infer)"
   ]
  },
  {
   "cell_type": "markdown",
   "id": "76bc0c7b-c739-4dcd-914a-e36b30176209",
   "metadata": {},
   "source": [
    "### Reading and Cleaning Data\n",
    "\n",
    "The `Target` describes 3 possible outcomes of a student, they either \"Graduate\", \"Dropout\", or stay \"Enrolled\". This analysis will focus on the proportion of students that have dropped out specifically. \n",
    "\n",
    "Moreover, `Mother's qualification` and `Father's qualification` describe the parents education level, where each number corresponds to an education experience (details [here](#Wrangling-and-Visualizing-Data)). Note that the order is arbitrary, and it not indicative of education level!\n",
    "\n",
    "The admission grade of the student is also a significant variable that can shed further insight into our investigation, so we keep that in the table. "
   ]
  },
  {
   "cell_type": "code",
   "execution_count": 45,
   "id": "1c19ebaa-e73c-4c5f-8cf6-420378ebb01c",
   "metadata": {
    "tags": []
   },
   "outputs": [
    {
     "name": "stderr",
     "output_type": "stream",
     "text": [
      "\u001b[1mRows: \u001b[22m\u001b[34m4424\u001b[39m \u001b[1mColumns: \u001b[22m\u001b[34m37\u001b[39m\n",
      "\u001b[36m──\u001b[39m \u001b[1mColumn specification\u001b[22m \u001b[36m────────────────────────────────────────────────────────\u001b[39m\n",
      "\u001b[1mDelimiter:\u001b[22m \";\"\n",
      "\u001b[31mchr\u001b[39m  (1): Target\n",
      "\u001b[32mdbl\u001b[39m (36): Marital status, Application mode, Application order, Course, Dayti...\n",
      "\n",
      "\u001b[36mℹ\u001b[39m Use `spec()` to retrieve the full column specification for this data.\n",
      "\u001b[36mℹ\u001b[39m Specify the column types or set `show_col_types = FALSE` to quiet this message.\n"
     ]
    },
    {
     "name": "stdout",
     "output_type": "stream",
     "text": [
      "[Table 1] Unwrangled student data with relevant variables"
     ]
    },
    {
     "data": {
      "text/html": [
       "<table class=\"dataframe\">\n",
       "<caption>A tibble: 6 × 4</caption>\n",
       "<thead>\n",
       "\t<tr><th scope=col>Target</th><th scope=col>Mother's qualification</th><th scope=col>Father's qualification</th><th scope=col>Admission grade</th></tr>\n",
       "\t<tr><th scope=col>&lt;chr&gt;</th><th scope=col>&lt;dbl&gt;</th><th scope=col>&lt;dbl&gt;</th><th scope=col>&lt;dbl&gt;</th></tr>\n",
       "</thead>\n",
       "<tbody>\n",
       "\t<tr><td>Dropout </td><td>19</td><td>12</td><td>127.3</td></tr>\n",
       "\t<tr><td>Graduate</td><td> 1</td><td> 3</td><td>142.5</td></tr>\n",
       "\t<tr><td>Dropout </td><td>37</td><td>37</td><td>124.8</td></tr>\n",
       "\t<tr><td>Graduate</td><td>38</td><td>37</td><td>119.6</td></tr>\n",
       "\t<tr><td>Graduate</td><td>37</td><td>38</td><td>141.5</td></tr>\n",
       "\t<tr><td>Graduate</td><td>37</td><td>37</td><td>114.8</td></tr>\n",
       "</tbody>\n",
       "</table>\n"
      ],
      "text/latex": [
       "A tibble: 6 × 4\n",
       "\\begin{tabular}{llll}\n",
       " Target & Mother's qualification & Father's qualification & Admission grade\\\\\n",
       " <chr> & <dbl> & <dbl> & <dbl>\\\\\n",
       "\\hline\n",
       "\t Dropout  & 19 & 12 & 127.3\\\\\n",
       "\t Graduate &  1 &  3 & 142.5\\\\\n",
       "\t Dropout  & 37 & 37 & 124.8\\\\\n",
       "\t Graduate & 38 & 37 & 119.6\\\\\n",
       "\t Graduate & 37 & 38 & 141.5\\\\\n",
       "\t Graduate & 37 & 37 & 114.8\\\\\n",
       "\\end{tabular}\n"
      ],
      "text/markdown": [
       "\n",
       "A tibble: 6 × 4\n",
       "\n",
       "| Target &lt;chr&gt; | Mother's qualification &lt;dbl&gt; | Father's qualification &lt;dbl&gt; | Admission grade &lt;dbl&gt; |\n",
       "|---|---|---|---|\n",
       "| Dropout  | 19 | 12 | 127.3 |\n",
       "| Graduate |  1 |  3 | 142.5 |\n",
       "| Dropout  | 37 | 37 | 124.8 |\n",
       "| Graduate | 38 | 37 | 119.6 |\n",
       "| Graduate | 37 | 38 | 141.5 |\n",
       "| Graduate | 37 | 37 | 114.8 |\n",
       "\n"
      ],
      "text/plain": [
       "  Target   Mother's qualification Father's qualification Admission grade\n",
       "1 Dropout  19                     12                     127.3          \n",
       "2 Graduate  1                      3                     142.5          \n",
       "3 Dropout  37                     37                     124.8          \n",
       "4 Graduate 38                     37                     119.6          \n",
       "5 Graduate 37                     38                     141.5          \n",
       "6 Graduate 37                     37                     114.8          "
      ]
     },
     "metadata": {},
     "output_type": "display_data"
    }
   ],
   "source": [
    "# Load data from url\n",
    "student_data_raw <- read_delim(DATASET_URL, delim = \";\")\n",
    "\n",
    "# select target columns\n",
    "student_data <- \n",
    "    student_data_raw |>\n",
    "    select(Target, all_of(DATA_FIELDS))\n",
    "\n",
    "cat(\"[Table 1] Unwrangled student data with relevant variables\")\n",
    "head(student_data)"
   ]
  },
  {
   "cell_type": "markdown",
   "id": "8d563b80-0541-46e0-9bd5-c6db081a2139",
   "metadata": {},
   "source": [
    "### Wrangling and Visualizing Data \n",
    "\n",
    "We need to classify parents education level into two categories, those who have recieved higher education, and those who have not recieved higher education. Using the UCI dataset description, we classify the education levels numerically as follows\n",
    "- **Recieved higher education:**  \n",
    "**2** - Bachelor's Degree, \n",
    "**3** - Degree, \n",
    "**4** - Master's, \n",
    "**5** - Doctorate, \n",
    "**22** - Technical-professional course, \n",
    "**40** - degree (1st cycle), \n",
    "**41** - Specialized higher studies course, \n",
    "**42** - Professional higher technical course, \n",
    "**43** - Master (2nd cycle), \n",
    "**44** - Doctorate (3rd cycle),\n",
    "**39** - Technological specialization course.\n",
    "\n",
    "- **Have not recieved higher education:**  \n",
    "**1** - Secondary Education, \n",
    "**9** - 12th Year of Schooling - Not Completed,\n",
    "**10** - 11th Year of Schooling - Not Completed, \n",
    "**11** - 7th Year, \n",
    "**12** - 11th Year of Schooling,\n",
    "**14** - 10th Year of Schooling 18, \n",
    "**19** - Basic Education 3rd Cycle (9th/10th/11th Year), \n",
    "**26** - 7th year of schooling, \n",
    "**27** - 2nd cycle of the general high school course, \n",
    "**29** - 9th Year of Schooling - Not Completed, \n",
    "**30** - 8th year of schooling, \n",
    "**35** - Can't read or write, \n",
    "**36** - Can read without having a 4th year of schooling, \n",
    "**37** - Basic education 1st cycle (4th/5th year), \n",
    "**38** - Basic Education 2nd Cycle (6th/7th/8th Year). \n",
    "\n",
    "- **Outliers (We ignore these)**:  \n",
    "**34** - Unknown , \n",
    "**6** - Frequency of Higher Education \n",
    "\n",
    "Below is a table of the results:"
   ]
  },
  {
   "cell_type": "code",
   "execution_count": 53,
   "id": "fb82871f-5a3e-4923-9a00-656095c35db9",
   "metadata": {
    "tags": []
   },
   "outputs": [
    {
     "name": "stdout",
     "output_type": "stream",
     "text": [
      "[Table 2] Wrangled summary of student dropout rates with classification"
     ]
    },
    {
     "data": {
      "text/html": [
       "<table class=\"dataframe\">\n",
       "<caption>A tibble: 6 × 6</caption>\n",
       "<thead>\n",
       "\t<tr><th scope=col>Target</th><th scope=col>Mother's qualification</th><th scope=col>Father's qualification</th><th scope=col>Admission grade</th><th scope=col>one_higher_edu</th><th scope=col>both_higher_edu</th></tr>\n",
       "\t<tr><th scope=col>&lt;chr&gt;</th><th scope=col>&lt;dbl&gt;</th><th scope=col>&lt;dbl&gt;</th><th scope=col>&lt;dbl&gt;</th><th scope=col>&lt;lgl&gt;</th><th scope=col>&lt;lgl&gt;</th></tr>\n",
       "</thead>\n",
       "<tbody>\n",
       "\t<tr><td>Dropout </td><td>19</td><td>12</td><td>127.3</td><td>FALSE</td><td>FALSE</td></tr>\n",
       "\t<tr><td>Graduate</td><td> 1</td><td> 3</td><td>142.5</td><td> TRUE</td><td>FALSE</td></tr>\n",
       "\t<tr><td>Dropout </td><td>37</td><td>37</td><td>124.8</td><td>FALSE</td><td>FALSE</td></tr>\n",
       "\t<tr><td>Graduate</td><td>38</td><td>37</td><td>119.6</td><td>FALSE</td><td>FALSE</td></tr>\n",
       "\t<tr><td>Graduate</td><td>37</td><td>38</td><td>141.5</td><td>FALSE</td><td>FALSE</td></tr>\n",
       "\t<tr><td>Graduate</td><td>37</td><td>37</td><td>114.8</td><td>FALSE</td><td>FALSE</td></tr>\n",
       "</tbody>\n",
       "</table>\n"
      ],
      "text/latex": [
       "A tibble: 6 × 6\n",
       "\\begin{tabular}{llllll}\n",
       " Target & Mother's qualification & Father's qualification & Admission grade & one\\_higher\\_edu & both\\_higher\\_edu\\\\\n",
       " <chr> & <dbl> & <dbl> & <dbl> & <lgl> & <lgl>\\\\\n",
       "\\hline\n",
       "\t Dropout  & 19 & 12 & 127.3 & FALSE & FALSE\\\\\n",
       "\t Graduate &  1 &  3 & 142.5 &  TRUE & FALSE\\\\\n",
       "\t Dropout  & 37 & 37 & 124.8 & FALSE & FALSE\\\\\n",
       "\t Graduate & 38 & 37 & 119.6 & FALSE & FALSE\\\\\n",
       "\t Graduate & 37 & 38 & 141.5 & FALSE & FALSE\\\\\n",
       "\t Graduate & 37 & 37 & 114.8 & FALSE & FALSE\\\\\n",
       "\\end{tabular}\n"
      ],
      "text/markdown": [
       "\n",
       "A tibble: 6 × 6\n",
       "\n",
       "| Target &lt;chr&gt; | Mother's qualification &lt;dbl&gt; | Father's qualification &lt;dbl&gt; | Admission grade &lt;dbl&gt; | one_higher_edu &lt;lgl&gt; | both_higher_edu &lt;lgl&gt; |\n",
       "|---|---|---|---|---|---|\n",
       "| Dropout  | 19 | 12 | 127.3 | FALSE | FALSE |\n",
       "| Graduate |  1 |  3 | 142.5 |  TRUE | FALSE |\n",
       "| Dropout  | 37 | 37 | 124.8 | FALSE | FALSE |\n",
       "| Graduate | 38 | 37 | 119.6 | FALSE | FALSE |\n",
       "| Graduate | 37 | 38 | 141.5 | FALSE | FALSE |\n",
       "| Graduate | 37 | 37 | 114.8 | FALSE | FALSE |\n",
       "\n"
      ],
      "text/plain": [
       "  Target   Mother's qualification Father's qualification Admission grade\n",
       "1 Dropout  19                     12                     127.3          \n",
       "2 Graduate  1                      3                     142.5          \n",
       "3 Dropout  37                     37                     124.8          \n",
       "4 Graduate 38                     37                     119.6          \n",
       "5 Graduate 37                     38                     141.5          \n",
       "6 Graduate 37                     37                     114.8          \n",
       "  one_higher_edu both_higher_edu\n",
       "1 FALSE          FALSE          \n",
       "2  TRUE          FALSE          \n",
       "3 FALSE          FALSE          \n",
       "4 FALSE          FALSE          \n",
       "5 FALSE          FALSE          \n",
       "6 FALSE          FALSE          "
      ]
     },
     "metadata": {},
     "output_type": "display_data"
    }
   ],
   "source": [
    "higher_edu = c(2, 3, 4, 5, 22, 40, 41, 42, 43, 44, 39)\n",
    "not_higher_edu = c(1, 9, 10, 11, 12, 14, 19, 26, 27, 29, 30, 35, 36, 37, 38)\n",
    "outliers = c(34, 6)\n",
    "\n",
    "student_data_edu <- \n",
    "    student_data |>\n",
    "    filter(!(`Mother's qualification` %in%  outliers | `Father's qualification` %in%  outliers)) |>\n",
    "    mutate(one_higher_edu  = ((`Mother's qualification` %in%  higher_edu) | (`Father's qualification` %in%  higher_edu)),\n",
    "           both_higher_edu = ((`Mother's qualification` %in%  higher_edu) & (`Father's qualification` %in%  higher_edu)))\n",
    "\n",
    "cat(\"[Table 2] Wrangled summary of student dropout rates with classification\")\n",
    "head(student_data_edu)"
   ]
  },
  {
   "cell_type": "markdown",
   "id": "0c37da54-7495-4bb4-a44a-05d65cf3ce02",
   "metadata": {},
   "source": [
    "Next, we also summarize the data into a point-estimate of the dropout rates."
   ]
  },
  {
   "cell_type": "code",
   "execution_count": 57,
   "id": "fbd4db57-128a-4a6b-91da-01a0b310f56b",
   "metadata": {
    "tags": []
   },
   "outputs": [
    {
     "name": "stdout",
     "output_type": "stream",
     "text": [
      "[Table 3] Summary table of student dropout proportions"
     ]
    },
    {
     "data": {
      "text/html": [
       "<table class=\"dataframe\">\n",
       "<caption>A tibble: 2 × 4</caption>\n",
       "<thead>\n",
       "\t<tr><th scope=col>one_higher_edu</th><th scope=col>dropout_prop</th><th scope=col>size</th><th scope=col>grade</th></tr>\n",
       "\t<tr><th scope=col>&lt;lgl&gt;</th><th scope=col>&lt;dbl&gt;</th><th scope=col>&lt;int&gt;</th><th scope=col>&lt;dbl&gt;</th></tr>\n",
       "</thead>\n",
       "<tbody>\n",
       "\t<tr><td>FALSE</td><td>0.3059873</td><td>3474</td><td>126.5741</td></tr>\n",
       "\t<tr><td> TRUE</td><td>0.3125778</td><td> 803</td><td>129.6268</td></tr>\n",
       "</tbody>\n",
       "</table>\n"
      ],
      "text/latex": [
       "A tibble: 2 × 4\n",
       "\\begin{tabular}{llll}\n",
       " one\\_higher\\_edu & dropout\\_prop & size & grade\\\\\n",
       " <lgl> & <dbl> & <int> & <dbl>\\\\\n",
       "\\hline\n",
       "\t FALSE & 0.3059873 & 3474 & 126.5741\\\\\n",
       "\t  TRUE & 0.3125778 &  803 & 129.6268\\\\\n",
       "\\end{tabular}\n"
      ],
      "text/markdown": [
       "\n",
       "A tibble: 2 × 4\n",
       "\n",
       "| one_higher_edu &lt;lgl&gt; | dropout_prop &lt;dbl&gt; | size &lt;int&gt; | grade &lt;dbl&gt; |\n",
       "|---|---|---|---|\n",
       "| FALSE | 0.3059873 | 3474 | 126.5741 |\n",
       "|  TRUE | 0.3125778 |  803 | 129.6268 |\n",
       "\n"
      ],
      "text/plain": [
       "  one_higher_edu dropout_prop size grade   \n",
       "1 FALSE          0.3059873    3474 126.5741\n",
       "2  TRUE          0.3125778     803 129.6268"
      ]
     },
     "metadata": {},
     "output_type": "display_data"
    }
   ],
   "source": [
    "# proportion table\n",
    "student_dropout_props_one <-\n",
    "    student_data_edu |>\n",
    "    group_by(one_higher_edu) |>\n",
    "    summarize(dropout_prop = sum(Target == \"Dropout\") / n(),\n",
    "              size = n(), \n",
    "              grade = mean(`Admission grade`))\n",
    "\n",
    "student_dropout_props_both <-\n",
    "    student_data_edu |>\n",
    "    group_by(both_higher_edu) |>\n",
    "    summarize(dropout_prop = sum(Target == \"Dropout\") / n(),\n",
    "              size = n(), \n",
    "              grade = mean(`Admission grade`))\n",
    "\n",
    "cat(\"[Table 3] Summary table of student dropout proportions\")\n",
    "student_dropout_props_one"
   ]
  },
  {
   "cell_type": "markdown",
   "id": "ab79acb1-b8a8-46bc-b217-33c8e78d66db",
   "metadata": {},
   "source": [
    "At a glance, we can see that students with parents that have recieved higher education actually are more likely to drop out. The difference in dropout rates is actually quite small, and\n",
    "This seems to match with out intial assumption; however, we would need to perform more tests to verify the accuracy and validity of our sample point-estimates."
   ]
  },
  {
   "cell_type": "markdown",
   "id": "15eebafb-2f98-4d4d-ae24-1b95c797dcf9",
   "metadata": {
    "tags": []
   },
   "source": [
    "### Visualize Data\n",
    "\n",
    "Data visualization... somehow, idk how\n",
    "\n",
    "bar chart maybe\n",
    "\n",
    "visualize the proportion of education for parents maybe \n",
    "\n"
   ]
  },
  {
   "cell_type": "markdown",
   "id": "c962c7aa-848f-4049-9e93-4b97d7268e22",
   "metadata": {},
   "source": [
    "## Methods and Results\n",
    "The previous sections will carry over to your final report (you’ll be allowed to improve them based on feedback you get). Begin this Methods section with a brief description of “the good things” about this report – specifically, in what ways is this report trustworthy?\n",
    "\n",
    "Continue by explaining why the plot(s) and estimates that you produced are not enough to give to a stakeholder, and what you should provide in addition to address this gap. Make sure your plans include at least one hypothesis test and one confidence interval. If possible, compare both the bootstrapping and asymptotics methods.\n",
    "\n",
    "Finish this section by reflecting on how your final report might play out:\n",
    "\n",
    "What do you expect to find?\n",
    "What impact could such findings have?\n",
    "What future questions could this lead to?\n",
    "\n",
    "### Expectations/Impacts/Future Questions"
   ]
  },
  {
   "cell_type": "markdown",
   "id": "e80ecd9c-266b-4b6f-9515-c2b1732dc8d7",
   "metadata": {
    "tags": []
   },
   "source": [
    "## Discussion"
   ]
  },
  {
   "cell_type": "markdown",
   "id": "4749c914-954e-4f03-9cf7-3aa8232b76dd",
   "metadata": {
    "tags": []
   },
   "source": [
    "## References\n",
    "\n",
    "https://oa.mg/work/10.1007/978-3-030-72657-7_16\n",
    "\n",
    "\n",
    "At least two citations of literature relevant to the project. The citation format is your choice – just be consistent. Make sure to cite the source of your data as well.\n",
    "\n",
    "assigned to review a different group’s proposal. This allows your group to collectively see a larger variety of proposals.)"
   ]
  },
  {
   "cell_type": "code",
   "execution_count": null,
   "id": "2c6a199b-7869-4a99-872c-8300858ed659",
   "metadata": {},
   "outputs": [],
   "source": []
  }
 ],
 "metadata": {
  "kernelspec": {
   "display_name": "R",
   "language": "R",
   "name": "ir"
  },
  "language_info": {
   "codemirror_mode": "r",
   "file_extension": ".r",
   "mimetype": "text/x-r-source",
   "name": "R",
   "pygments_lexer": "r",
   "version": "4.2.3"
  }
 },
 "nbformat": 4,
 "nbformat_minor": 5
}
